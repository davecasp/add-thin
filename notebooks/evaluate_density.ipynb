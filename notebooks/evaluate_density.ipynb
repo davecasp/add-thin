{
 "cells": [
  {
   "cell_type": "code",
   "execution_count": null,
   "metadata": {},
   "outputs": [],
   "source": [
    "import torch\n",
    "\n",
    "from add_thin.metrics import MMD, lengths_distribution_wasserstein_distance\n",
    "from add_thin.evaluate_utils import get_task, get_run_data"
   ]
  },
  {
   "cell_type": "code",
   "execution_count": null,
   "metadata": {},
   "outputs": [],
   "source": [
    "# Set run id and paths\n",
    "RUN_ID = \"id\"\n",
    "\n",
    "WANDB_DIR = \"path/to/wandb/directory\"\n",
    "PROJECT_ROOT = \"path/to/project\"  # should include data folder"
   ]
  },
  {
   "cell_type": "code",
   "execution_count": null,
   "metadata": {},
   "outputs": [],
   "source": [
    "def sample_model(task, tmax, n=4000):\n",
    "    \"\"\"\n",
    "    Unconditionally draw n event sequences from Add Thin.\n",
    "    \"\"\"\n",
    "    with torch.no_grad():\n",
    "        samples = task.model.sample(n, tmax=tmax.to(task.device)).to_time_list()\n",
    "\n",
    "    assert len(samples) == n, \"not enough samples\"\n",
    "    return samples"
   ]
  },
  {
   "cell_type": "code",
   "execution_count": null,
   "metadata": {},
   "outputs": [],
   "source": [
    "# Get run data\n",
    "data_name, seed, run_path = get_run_data(RUN_ID, WANDB_DIR)\n",
    "\n",
    "# Get task and datamodule\n",
    "task, datamodule = get_task(run_path, density=True, data_root=PROJECT_ROOT)\n",
    "\n",
    "# Get test sequences\n",
    "test_sequences = []\n",
    "for (\n",
    "    batch\n",
    ") in (\n",
    "    datamodule.test_dataloader()\n",
    "):  # batch is set to full test set, but better be safe\n",
    "    test_sequences = test_sequences + batch.to_time_list()\n",
    "\n",
    "# Sample event sequences from trained model\n",
    "samples = sample_model(task, datamodule.tmax, n=4000)\n",
    "\n",
    "# Evaluate metrics against test dataset\n",
    "mmd = MMD(\n",
    "    samples,\n",
    "    test_sequences,\n",
    "    datamodule.tmax.detach().cpu().item(),\n",
    ")[0]\n",
    "wasserstein = lengths_distribution_wasserstein_distance(\n",
    "    samples,\n",
    "    test_sequences,\n",
    "    datamodule.tmax.detach().cpu().item(),\n",
    "    datamodule.n_max,\n",
    ")\n",
    "\n",
    "# Print rounded results for data and seed\n",
    "print(\"ADD and Thin density evaluation:\")\n",
    "print(\"================================\")\n",
    "print(\n",
    "    f\"{data_name} (Seed: {seed}): MMD: {mmd:.3f}, Wasserstein: {wasserstein:.3f}\"\n",
    ")"
   ]
  }
 ],
 "metadata": {
  "kernelspec": {
   "display_name": "Python 3 (ipykernel)",
   "language": "python",
   "name": "python3"
  },
  "language_info": {
   "codemirror_mode": {
    "name": "ipython",
    "version": 3
   },
   "file_extension": ".py",
   "mimetype": "text/x-python",
   "name": "python",
   "nbconvert_exporter": "python",
   "pygments_lexer": "ipython3",
   "version": "3.10.13"
  }
 },
 "nbformat": 4,
 "nbformat_minor": 4
}
