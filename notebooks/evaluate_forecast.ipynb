{
 "cells": [
  {
   "cell_type": "code",
   "execution_count": null,
   "metadata": {},
   "outputs": [],
   "source": [
    "import torch\n",
    "\n",
    "from add_thin.metrics import forecast_wasserstein\n",
    "from add_thin.evaluate_utils import get_task, get_run_data"
   ]
  },
  {
   "cell_type": "code",
   "execution_count": null,
   "metadata": {},
   "outputs": [],
   "source": [
    "# Set run id and paths\n",
    "RUN_ID = \"id\"\n",
    "\n",
    "WANDB_DIR = \"path/to/wandb/logging/directory\"\n",
    "PROJECT_ROOT = \"path/to/project\"  # should include data folder"
   ]
  },
  {
   "cell_type": "code",
   "execution_count": null,
   "metadata": {},
   "outputs": [],
   "source": [
    "def sample_model(task, datamodule):\n",
    "    \"\"\"\n",
    "    Sample forecasts from model.\n",
    "    \"\"\"\n",
    "    samples = []\n",
    "    targets = []\n",
    "    mapes = []\n",
    "    with torch.no_grad():\n",
    "        for batch in datamodule.test_dataloader():\n",
    "            batch.to(task.device)\n",
    "            # Sample 50 forecasts\n",
    "            for _ in range(10):\n",
    "                # Set history\n",
    "                future, tmax, tmin = task.set_history(\n",
    "                    batch.concat(batch, batch, batch, batch)\n",
    "                )  # Note that we are using the same batch 5 times to get 5 different histories\n",
    "\n",
    "                # Sample forecasts from model\n",
    "                sample = task.model.sample(\n",
    "                    len(future),\n",
    "                    tmax=future.tmax,\n",
    "                )\n",
    "\n",
    "                # Rescale and shift to right forecast window\n",
    "                sample.time = (sample.time / future.tmax) * (tmax - tmin)[\n",
    "                    :, None\n",
    "                ] + tmin[:, None]\n",
    "\n",
    "                # Calculate Absolute Percentage Error\n",
    "                mapes.append(\n",
    "                    (\n",
    "                        torch.abs(future.mask.sum(-1) - sample.mask.sum(-1))\n",
    "                        / (future.mask.sum(-1) + 1)\n",
    "                    )\n",
    "                    .detach()\n",
    "                    .cpu()\n",
    "                )\n",
    "\n",
    "                samples = samples + sample.to_time_list()\n",
    "                targets = targets + future.to_time_list()\n",
    "\n",
    "    return samples, targets, mapes"
   ]
  },
  {
   "cell_type": "code",
   "execution_count": null,
   "metadata": {},
   "outputs": [],
   "source": [
    "# Get run data\n",
    "data_name, seed, run_path = get_run_data(RUN_ID, WANDB_DIR)\n",
    "\n",
    "# Get task and datamodule\n",
    "task, datamodule = get_task(run_path, density=False, data_root=PROJECT_ROOT)\n",
    "\n",
    "# Sample forecasts\n",
    "samples, targets, mapes = sample_model(task, datamodule)\n",
    "\n",
    "# Calculate Wasserstein distance and MAPE\n",
    "wassertstein_distance = forecast_wasserstein(\n",
    "    samples,\n",
    "    targets,\n",
    "    datamodule.tmax.detach().cpu().item(),\n",
    ")\n",
    "MAPE = torch.cat(mapes).mean()\n",
    "\n",
    "# Print rounded results for data and seed\n",
    "print(\"ADD and Thin forecast evaluation:\")\n",
    "print(\"================================\")\n",
    "print(\n",
    "    f\"{data_name} (Seed: {seed}): Wasserstein: {wassertstein_distance:.3f}, MAPE: {MAPE:.3f}\"\n",
    ")"
   ]
  }
 ],
 "metadata": {
  "kernelspec": {
   "display_name": "Python 3 (ipykernel)",
   "language": "python",
   "name": "python3"
  },
  "language_info": {
   "codemirror_mode": {
    "name": "ipython",
    "version": 3
   },
   "file_extension": ".py",
   "mimetype": "text/x-python",
   "name": "python",
   "nbconvert_exporter": "python",
   "pygments_lexer": "ipython3",
   "version": "3.10.13"
  }
 },
 "nbformat": 4,
 "nbformat_minor": 4
}
